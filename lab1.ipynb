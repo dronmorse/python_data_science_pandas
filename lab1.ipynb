{
 "cells": [
  {
   "cell_type": "code",
   "execution_count": 2,
   "id": "6110a03d-53ba-43cc-8a3e-d473bdfe3506",
   "metadata": {},
   "outputs": [
    {
     "name": "stdout",
     "output_type": "stream",
     "text": [
      "Hello!\n"
     ]
    }
   ],
   "source": [
    "print(\"Hello!\") #Shift+Enter executes code"
   ]
  },
  {
   "cell_type": "code",
   "execution_count": 4,
   "id": "dd34797b-9304-4d77-9ef2-094d032fb489",
   "metadata": {},
   "outputs": [
    {
     "name": "stdout",
     "output_type": "stream",
     "text": [
      "Hello!\n",
      "Hello!\n",
      "Hello!\n",
      "Hello!\n"
     ]
    }
   ],
   "source": [
    "print(\"Hello!\")\n",
    "print(\"Hello!\")\n",
    "print(\"Hello!\")\n",
    "print(\"Hello!\")"
   ]
  },
  {
   "cell_type": "code",
   "execution_count": 17,
   "id": "207c93c3-7cf9-4897-b4e2-9982063f09f2",
   "metadata": {},
   "outputs": [
    {
     "data": {
      "text/plain": [
       "1"
      ]
     },
     "execution_count": 17,
     "metadata": {},
     "output_type": "execute_result"
    }
   ],
   "source": [
    "1"
   ]
  },
  {
   "cell_type": "code",
   "execution_count": 15,
   "id": "7106d990-a3ee-4f2b-ab06-d9c243b62e7a",
   "metadata": {},
   "outputs": [
    {
     "data": {
      "text/plain": [
       "2"
      ]
     },
     "execution_count": 15,
     "metadata": {},
     "output_type": "execute_result"
    }
   ],
   "source": [
    "1\n",
    "2 #only the last value is returned"
   ]
  },
  {
   "cell_type": "code",
   "execution_count": 26,
   "id": "2de0a885-e766-486b-832b-04ac29e33ed5",
   "metadata": {},
   "outputs": [],
   "source": [
    "#click escape to command mode\n",
    "#B adds line below\n",
    "#a adds line above\n",
    "#dd removes a line\n",
    "#arrows moves between lines\n",
    "#Y changes line to code mode - interpreted by python\n",
    "#M changes line to markdown code - useful for comments and not interpreted\n",
    "#R changes line to raw mode - useful for uninterpreted lines, als do not show up as comments"
   ]
  },
  {
   "cell_type": "code",
   "execution_count": null,
   "id": "88ffc9c0-a14f-463e-98b8-afb8c393b602",
   "metadata": {},
   "outputs": [],
   "source": [
    "#markdown example"
   ]
  },
  {
   "cell_type": "markdown",
   "id": "da2736c1-542b-4645-9b44-015dc6e6ad80",
   "metadata": {},
   "source": [
    "# THIS IS A MARKDOWN"
   ]
  },
  {
   "cell_type": "code",
   "execution_count": 35,
   "id": "623e6bb8-f048-4ea7-b0f3-91deaf8701de",
   "metadata": {},
   "outputs": [],
   "source": [
    "#X cuts a line\n",
    "#V pastes a line\n",
    "#shift+M merges cells - shift+Enter accepts the merge"
   ]
  },
  {
   "cell_type": "code",
   "execution_count": 33,
   "id": "be14bff8-5c55-4757-89f2-5d819b130550",
   "metadata": {
    "scrolled": true
   },
   "outputs": [
    {
     "name": "stdout",
     "output_type": "stream",
     "text": [
      "0\n",
      "1\n",
      "2\n",
      "3\n",
      "4\n",
      "5\n",
      "6\n",
      "7\n",
      "8\n",
      "9\n",
      "10\n",
      "11\n",
      "12\n",
      "13\n",
      "14\n",
      "15\n",
      "16\n",
      "17\n",
      "18\n",
      "19\n",
      "20\n",
      "21\n",
      "22\n",
      "23\n",
      "24\n",
      "25\n",
      "26\n",
      "27\n",
      "28\n",
      "29\n",
      "30\n",
      "31\n",
      "32\n",
      "33\n",
      "34\n",
      "35\n",
      "36\n",
      "37\n",
      "38\n",
      "39\n",
      "40\n",
      "41\n",
      "42\n",
      "43\n",
      "44\n",
      "45\n",
      "46\n",
      "47\n",
      "48\n",
      "49\n",
      "50\n",
      "51\n",
      "52\n",
      "53\n",
      "54\n",
      "55\n",
      "56\n",
      "57\n",
      "58\n",
      "59\n",
      "60\n",
      "61\n",
      "62\n",
      "63\n",
      "64\n",
      "65\n",
      "66\n",
      "67\n",
      "68\n",
      "69\n",
      "70\n",
      "71\n",
      "72\n",
      "73\n",
      "74\n",
      "75\n",
      "76\n",
      "77\n",
      "78\n",
      "79\n",
      "80\n",
      "81\n",
      "82\n",
      "83\n",
      "84\n",
      "85\n",
      "86\n",
      "87\n",
      "88\n",
      "89\n",
      "90\n",
      "91\n",
      "92\n",
      "93\n",
      "94\n",
      "95\n",
      "96\n",
      "97\n",
      "98\n",
      "99\n"
     ]
    }
   ],
   "source": [
    "for i in range(100):\n",
    "    print(i)"
   ]
  },
  {
   "cell_type": "code",
   "execution_count": 37,
   "id": "cb201e7d-6274-49b4-8b90-047da3f3807c",
   "metadata": {},
   "outputs": [],
   "source": [
    "#shift+L adds line numbers for all lines\n",
    "#l add line for this cell"
   ]
  },
  {
   "cell_type": "code",
   "execution_count": null,
   "id": "535bbf83-6386-499d-963e-441ad3c0e016",
   "metadata": {},
   "outputs": [],
   "source": [
    "#ctrl+shift+H shows keyboard shortcuts - very useful!"
   ]
  }
 ],
 "metadata": {
  "kernelspec": {
   "display_name": "Python 3 (ipykernel)",
   "language": "python",
   "name": "python3"
  },
  "language_info": {
   "codemirror_mode": {
    "name": "ipython",
    "version": 3
   },
   "file_extension": ".py",
   "mimetype": "text/x-python",
   "name": "python",
   "nbconvert_exporter": "python",
   "pygments_lexer": "ipython3",
   "version": "3.12.4"
  }
 },
 "nbformat": 4,
 "nbformat_minor": 5
}
