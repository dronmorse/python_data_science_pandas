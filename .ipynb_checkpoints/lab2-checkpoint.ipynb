{
 "cells": [
  {
   "cell_type": "markdown",
   "id": "8155fe0b-4cab-41a4-9f92-e27e7ad83513",
   "metadata": {},
   "source": [
    "# Important! Style1"
   ]
  },
  {
   "cell_type": "markdown",
   "id": "4a08c54b-3beb-423d-b7be-386800d3426a",
   "metadata": {},
   "source": [
    "## Style2"
   ]
  },
  {
   "cell_type": "markdown",
   "id": "2afcc910-983f-4094-9a40-1aa28643aca0",
   "metadata": {},
   "source": [
    "- one\n",
    "- two\n",
    "- three\n",
    "- made with dashes"
   ]
  },
  {
   "cell_type": "markdown",
   "id": "c168cc4b-4ab8-4b70-9692-f96b33515d89",
   "metadata": {},
   "source": [
    "1. a\n",
    "2. b\n",
    "3. c\n",
    "4. d\n",
    "5. "
   ]
  },
  {
   "cell_type": "markdown",
   "id": "4f86bd84-aac8-418f-aa99-59219f5c577e",
   "metadata": {},
   "source": [
    "*italic* **bold** __bold__ _italic_ 1 * or 1 _ on both sides is italic, 2 is bold"
   ]
  },
  {
   "cell_type": "markdown",
   "id": "a1dbf039-b250-412a-ab68-ef092c48c1b7",
   "metadata": {},
   "source": [
    "[hyperlink](https://www.youtube.com/) [] with text and () with address"
   ]
  },
  {
   "attachments": {
    "207a93f3-b938-4980-8d21-34ba638662e4.avif": {
     "image/avif": "[encoded data removed]"
    }
   },
   "cell_type": "markdown",
   "id": "edf9cbe5-70bc-4269-8a12-965710e097de",
   "metadata": {},
   "source": [
    "![Picture](![ikona-odtwarzacza-youtube-z-plaska-konstrukcja_23-2147837753.avif](attachment:207a93f3-b938-4980-8d21-34ba638662e4.avif) same as for hyperlink but with ! at the beggining"
   ]
  },
  {
   "cell_type": "markdown",
   "id": "dc55d779-09b5-4054-9e43-dfb704b3d536",
   "metadata": {},
   "source": [
    "# to highlight code add 1 tab at the start of each line\n",
    "    for i in range(10):\n",
    "        print (i)"
   ]
  },
  {
   "cell_type": "markdown",
   "id": "d5460a44-521e-4b70-be54-0c4ec2bc7537",
   "metadata": {},
   "source": [
    "if we want to remove the special meaning of * or _ we need to add \\ before it\n",
    "e.g. 2\\*2\\*2"
   ]
  },
  {
   "cell_type": "markdown",
   "id": "a252f9bd-b032-411c-9957-c9f0419d37b9",
   "metadata": {},
   "source": [
    "jupyter notebook also supports the LaTeX "
   ]
  },
  {
   "cell_type": "code",
   "execution_count": null,
   "id": "8ee0dfa0-ed6b-403f-a2a5-985373008a68",
   "metadata": {},
   "outputs": [],
   "source": []
  }
 ],
 "metadata": {
  "kernelspec": {
   "display_name": "Python 3 (ipykernel)",
   "language": "python",
   "name": "python3"
  },
  "language_info": {
   "codemirror_mode": {
    "name": "ipython",
    "version": 3
   },
   "file_extension": ".py",
   "mimetype": "text/x-python",
   "name": "python",
   "nbconvert_exporter": "python",
   "pygments_lexer": "ipython3",
   "version": "3.12.4"
  }
 },
 "nbformat": 4,
 "nbformat_minor": 5
}
