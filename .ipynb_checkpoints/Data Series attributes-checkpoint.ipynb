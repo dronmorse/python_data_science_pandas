{
 "cells": [
  {
   "cell_type": "code",
   "execution_count": 2,
   "id": "6227cb3b-f52b-4d6b-b88f-ca18708eed9e",
   "metadata": {},
   "outputs": [],
   "source": [
    "import pandas as pd\n",
    "import numpy as np\n",
    "import matplotlib.pyplot as plt\n",
    "import math as math"
   ]
  },
  {
   "cell_type": "code",
   "execution_count": 3,
   "id": "ff1d3872-01bd-43f6-b34d-4c1a40c2b83e",
   "metadata": {},
   "outputs": [],
   "source": [
    "cities=[\"London\", \"Berlin\",\"Warsaw\",\"Paris\"]"
   ]
  },
  {
   "cell_type": "code",
   "execution_count": 4,
   "id": "3d2a3cf1-2627-4bec-932f-15703ed0fdb5",
   "metadata": {},
   "outputs": [
    {
     "data": {
      "text/plain": [
       "['London', 'Berlin', 'Warsaw', 'Paris']"
      ]
     },
     "execution_count": 4,
     "metadata": {},
     "output_type": "execute_result"
    }
   ],
   "source": [
    "cities"
   ]
  },
  {
   "cell_type": "code",
   "execution_count": 6,
   "id": "941e9bd5-e5ae-458d-b8a5-82a83ab4fabe",
   "metadata": {},
   "outputs": [
    {
     "data": {
      "text/plain": [
       "0    London\n",
       "1    Berlin\n",
       "2    Warsaw\n",
       "3     Paris\n",
       "dtype: object"
      ]
     },
     "execution_count": 6,
     "metadata": {},
     "output_type": "execute_result"
    }
   ],
   "source": [
    "citiesSeries = pd.Series(cities)\n",
    "citiesSeries"
   ]
  },
  {
   "cell_type": "markdown",
   "id": "6e4e4a6f-3415-4b76-aac9-656d22191f29",
   "metadata": {},
   "source": [
    "dataseries size"
   ]
  },
  {
   "cell_type": "code",
   "execution_count": 7,
   "id": "0977822f-c791-4cc3-b859-3150c6097875",
   "metadata": {},
   "outputs": [
    {
     "data": {
      "text/plain": [
       "4"
      ]
     },
     "execution_count": 7,
     "metadata": {},
     "output_type": "execute_result"
    }
   ],
   "source": [
    "citiesSeries.size"
   ]
  },
  {
   "cell_type": "markdown",
   "id": "c5251bd2-255f-4c4a-95c4-3e9c8af1c85e",
   "metadata": {},
   "source": [
    "how many bytes"
   ]
  },
  {
   "cell_type": "code",
   "execution_count": 8,
   "id": "c4c10209-d7d0-4083-b15d-6ef27bfcd48b",
   "metadata": {},
   "outputs": [
    {
     "data": {
      "text/plain": [
       "32"
      ]
     },
     "execution_count": 8,
     "metadata": {},
     "output_type": "execute_result"
    }
   ],
   "source": [
    "citiesSeries.nbytes"
   ]
  },
  {
   "cell_type": "markdown",
   "id": "c40e36ac-369f-480b-8b91-de3aa1d17d8b",
   "metadata": {},
   "source": [
    "is elements unique"
   ]
  },
  {
   "cell_type": "code",
   "execution_count": 9,
   "id": "5d8f3bf9-ae30-4134-9a9c-2600b98a43e8",
   "metadata": {},
   "outputs": [
    {
     "data": {
      "text/plain": [
       "True"
      ]
     },
     "execution_count": 9,
     "metadata": {},
     "output_type": "execute_result"
    }
   ],
   "source": [
    "citiesSeries.is_unique"
   ]
  },
  {
   "cell_type": "markdown",
   "id": "fcce6047-e621-439d-a57b-22938866d3fe",
   "metadata": {},
   "source": [
    "is it monotonic and increasing?"
   ]
  },
  {
   "cell_type": "code",
   "execution_count": 12,
   "id": "95a48fe9-6015-4e2c-98f5-d1eb7342e94f",
   "metadata": {},
   "outputs": [
    {
     "data": {
      "text/plain": [
       "False"
      ]
     },
     "execution_count": 12,
     "metadata": {},
     "output_type": "execute_result"
    }
   ],
   "source": [
    "citiesSeries.is_monotonic_increasing"
   ]
  },
  {
   "cell_type": "markdown",
   "id": "0456af10-1b42-48a7-b572-33631953a54a",
   "metadata": {},
   "source": [
    "how was index created?"
   ]
  },
  {
   "cell_type": "code",
   "execution_count": 13,
   "id": "b036400f-2821-4d84-ad56-a090d085f3c9",
   "metadata": {},
   "outputs": [
    {
     "data": {
      "text/plain": [
       "RangeIndex(start=0, stop=4, step=1)"
      ]
     },
     "execution_count": 13,
     "metadata": {},
     "output_type": "execute_result"
    }
   ],
   "source": [
    "citiesSeries.index"
   ]
  },
  {
   "cell_type": "markdown",
   "id": "3a1e9b83-16df-4b29-b6cb-5924683647e6",
   "metadata": {},
   "source": [
    "how about values?"
   ]
  },
  {
   "cell_type": "code",
   "execution_count": 14,
   "id": "eef7f923-00bc-4ae7-a5b3-148ac8dc5757",
   "metadata": {},
   "outputs": [
    {
     "data": {
      "text/plain": [
       "array(['London', 'Berlin', 'Warsaw', 'Paris'], dtype=object)"
      ]
     },
     "execution_count": 14,
     "metadata": {},
     "output_type": "execute_result"
    }
   ],
   "source": [
    "citiesSeries.values"
   ]
  },
  {
   "cell_type": "markdown",
   "id": "60f666a3-8908-4e68-ac66-43c0604cc0fe",
   "metadata": {},
   "source": [
    "what is the type of my object?"
   ]
  },
  {
   "cell_type": "code",
   "execution_count": 15,
   "id": "6ddde3cd-4879-458e-b9fd-e2275a4607ee",
   "metadata": {},
   "outputs": [
    {
     "data": {
      "text/plain": [
       "dtype('O')"
      ]
     },
     "execution_count": 15,
     "metadata": {},
     "output_type": "execute_result"
    }
   ],
   "source": [
    "citiesSeries.dtype"
   ]
  },
  {
   "cell_type": "markdown",
   "id": "e2328782-017d-48ce-9926-9b601d57afbc",
   "metadata": {},
   "source": [
    "what is the shape of my dataSeries? all dimensions"
   ]
  },
  {
   "cell_type": "code",
   "execution_count": 16,
   "id": "9cd432f5-9c76-4e1f-86e8-a15722deab02",
   "metadata": {},
   "outputs": [
    {
     "data": {
      "text/plain": [
       "(4,)"
      ]
     },
     "execution_count": 16,
     "metadata": {},
     "output_type": "execute_result"
    }
   ],
   "source": [
    "citiesSeries.shape"
   ]
  },
  {
   "cell_type": "markdown",
   "id": "9437641e-c597-4330-9545-843448ffc38d",
   "metadata": {},
   "source": [
    "how about different axes?"
   ]
  },
  {
   "cell_type": "code",
   "execution_count": 17,
   "id": "1f309158-664f-4475-a659-18eaf581a95f",
   "metadata": {},
   "outputs": [
    {
     "data": {
      "text/plain": [
       "[RangeIndex(start=0, stop=4, step=1)]"
      ]
     },
     "execution_count": 17,
     "metadata": {},
     "output_type": "execute_result"
    }
   ],
   "source": [
    "citiesSeries.axes"
   ]
  }
 ],
 "metadata": {
  "kernelspec": {
   "display_name": "Python 3 (ipykernel)",
   "language": "python",
   "name": "python3"
  },
  "language_info": {
   "codemirror_mode": {
    "name": "ipython",
    "version": 3
   },
   "file_extension": ".py",
   "mimetype": "text/x-python",
   "name": "python",
   "nbconvert_exporter": "python",
   "pygments_lexer": "ipython3",
   "version": "3.12.6"
  }
 },
 "nbformat": 4,
 "nbformat_minor": 5
}
