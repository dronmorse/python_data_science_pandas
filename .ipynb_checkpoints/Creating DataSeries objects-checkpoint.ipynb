{
 "cells": [
  {
   "cell_type": "code",
   "execution_count": 2,
   "id": "8fd7c2fa",
   "metadata": {},
   "outputs": [],
   "source": [
    "import pandas as pd\n",
    "import numpy as np\n",
    "import matplotlib.pyplot as plt\n",
    "import math as math"
   ]
  },
  {
   "cell_type": "code",
   "execution_count": 3,
   "id": "df62ed3b",
   "metadata": {},
   "outputs": [],
   "source": [
    "cities=[\"London\", \"Berlin\",\"Warsaw\",\"Paris\"]"
   ]
  },
  {
   "cell_type": "code",
   "execution_count": 4,
   "id": "c814ad75-907f-44bb-b5c6-6ed66467959d",
   "metadata": {},
   "outputs": [
    {
     "data": {
      "text/plain": [
       "['London', 'Berlin', 'Warsaw', 'Paris']"
      ]
     },
     "execution_count": 4,
     "metadata": {},
     "output_type": "execute_result"
    }
   ],
   "source": [
    "cities"
   ]
  },
  {
   "cell_type": "code",
   "execution_count": 5,
   "id": "f0f9600c-1a14-42bc-af14-696bfe9f3805",
   "metadata": {},
   "outputs": [
    {
     "data": {
      "text/plain": [
       "0    London\n",
       "1    Berlin\n",
       "2    Warsaw\n",
       "3     Paris\n",
       "dtype: object"
      ]
     },
     "execution_count": 5,
     "metadata": {},
     "output_type": "execute_result"
    }
   ],
   "source": [
    "pd.Series(cities)"
   ]
  },
  {
   "cell_type": "code",
   "execution_count": 7,
   "id": "cb45df9c-405e-497f-8470-c3fac181fa9c",
   "metadata": {},
   "outputs": [
    {
     "data": {
      "text/plain": [
       "0     1\n",
       "1     2\n",
       "2     3\n",
       "3     4\n",
       "4     5\n",
       "5     6\n",
       "6     7\n",
       "7     8\n",
       "8     9\n",
       "9    10\n",
       "dtype: int64"
      ]
     },
     "execution_count": 7,
     "metadata": {},
     "output_type": "execute_result"
    }
   ],
   "source": [
    "numbers=(1,2,3,4,5,6,7,8,9,10)\n",
    "pd.Series(numbers)"
   ]
  },
  {
   "cell_type": "code",
   "execution_count": 8,
   "id": "b8f3d1a6-a5ba-4d72-ab37-8d8caad8eee6",
   "metadata": {},
   "outputs": [
    {
     "data": {
      "text/plain": [
       "0     True\n",
       "1    False\n",
       "2     True\n",
       "dtype: bool"
      ]
     },
     "execution_count": 8,
     "metadata": {},
     "output_type": "execute_result"
    }
   ],
   "source": [
    "logicalValues = [True,False,True]\n",
    "pd.Series(logicalValues)"
   ]
  },
  {
   "cell_type": "code",
   "execution_count": 10,
   "id": "c56dd6ac-de0b-4943-a244-8baea70812b5",
   "metadata": {},
   "outputs": [
    {
     "data": {
      "text/plain": [
       "Jaws                1975\n",
       "1941 - The Movie    1979\n",
       "E.T                 1982\n",
       "dtype: int64"
      ]
     },
     "execution_count": 10,
     "metadata": {},
     "output_type": "execute_result"
    }
   ],
   "source": [
    "Spielberg = {\"Jaws\" : 1975,\n",
    "             \"1941 - The Movie\" : 1979,\n",
    "             \"E.T\" : 1982}\n",
    "pd.Series(Spielberg)"
   ]
  },
  {
   "cell_type": "markdown",
   "id": "f7ed93ca-6591-44c8-b3f3-75c2cc314ec2",
   "metadata": {},
   "source": [
    "# Exercises"
   ]
  },
  {
   "cell_type": "code",
   "execution_count": 12,
   "id": "bb8864ae-b01a-4529-b9ee-915b949e07d0",
   "metadata": {},
   "outputs": [
    {
     "data": {
      "text/plain": [
       "0    Mon\n",
       "1    Tue\n",
       "2    Wed\n",
       "3    Thu\n",
       "4    Fri\n",
       "5    Sat\n",
       "6    Sun\n",
       "dtype: object"
      ]
     },
     "execution_count": 12,
     "metadata": {},
     "output_type": "execute_result"
    }
   ],
   "source": [
    "weekdays = ['Mon', 'Tue', 'Wed', 'Thu', 'Fri', 'Sat', 'Sun']\n",
    "weekdaysSeries = pd.Series(weekdays)\n",
    "weekdaysSeries"
   ]
  },
  {
   "cell_type": "code",
   "execution_count": 13,
   "id": "5b3b1a9a-05db-4db8-a200-5696fe1eb34e",
   "metadata": {},
   "outputs": [
    {
     "data": {
      "text/plain": [
       "0    False\n",
       "1    False\n",
       "2    False\n",
       "3    False\n",
       "4    False\n",
       "5     True\n",
       "6     True\n",
       "dtype: bool"
      ]
     },
     "execution_count": 13,
     "metadata": {},
     "output_type": "execute_result"
    }
   ],
   "source": [
    "freeDays = [False, False, False, False, False, True, True]\n",
    "freeDaysSeries = pd.Series(freeDays)\n",
    "freeDaysSeries"
   ]
  },
  {
   "cell_type": "code",
   "execution_count": 14,
   "id": "1489dd8d-b509-480f-a3e1-c4b554c4ad7a",
   "metadata": {},
   "outputs": [
    {
     "data": {
      "text/plain": [
       "New Year    2018-01-01\n",
       "Epiphany    2018-01-06\n",
       "Easter      2018-04-01\n",
       "dtype: object"
      ]
     },
     "execution_count": 14,
     "metadata": {},
     "output_type": "execute_result"
    }
   ],
   "source": [
    "holidays = {'New Year' : '2018-01-01',\n",
    "            'Epiphany' : '2018-01-06',\n",
    "            'Easter' : '2018-04-01'}\n",
    "holidaysSeries = pd.Series(holidays)\n",
    "holidaysSeries"
   ]
  }
 ],
 "metadata": {
  "kernelspec": {
   "display_name": "Python 3 (ipykernel)",
   "language": "python",
   "name": "python3"
  },
  "language_info": {
   "codemirror_mode": {
    "name": "ipython",
    "version": 3
   },
   "file_extension": ".py",
   "mimetype": "text/x-python",
   "name": "python",
   "nbconvert_exporter": "python",
   "pygments_lexer": "ipython3",
   "version": "3.12.6"
  }
 },
 "nbformat": 4,
 "nbformat_minor": 5
}
